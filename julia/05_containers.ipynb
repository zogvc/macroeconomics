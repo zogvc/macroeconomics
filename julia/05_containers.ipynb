{
 "cells": [
  {
   "cell_type": "markdown",
   "id": "80a3ff47-742f-4f17-900c-c8007be4ba72",
   "metadata": {},
   "source": [
    "## **Arrays**"
   ]
  },
  {
   "cell_type": "markdown",
   "id": "4f2e62bc-a708-4037-907e-2f31b10582d4",
   "metadata": {},
   "source": [
    "## **Tuples**"
   ]
  },
  {
   "cell_type": "code",
   "execution_count": 11,
   "id": "e048f5fa-c67c-4067-b771-d484c9e6835a",
   "metadata": {},
   "outputs": [],
   "source": [
    "x = (\"foo\", \"bar\");\n",
    "y = (\"foo\", 2);"
   ]
  },
  {
   "cell_type": "code",
   "execution_count": 13,
   "id": "0130255c-7840-4136-b1a3-52f9840ea476",
   "metadata": {},
   "outputs": [
    {
     "data": {
      "text/plain": [
       "(Tuple{String, String}, Tuple{String, Int64})"
      ]
     },
     "execution_count": 13,
     "metadata": {},
     "output_type": "execute_result"
    }
   ],
   "source": [
    "typeof(x), typeof(y)"
   ]
  },
  {
   "cell_type": "code",
   "execution_count": 5,
   "id": "94173df6-0675-4c89-847c-b827dd290957",
   "metadata": {},
   "outputs": [
    {
     "data": {
      "text/plain": [
       "(\"foo\", 1)"
      ]
     },
     "execution_count": 5,
     "metadata": {},
     "output_type": "execute_result"
    }
   ],
   "source": [
    "x = \"foo\", 1 # Tuples can be constructed with or without parentheses."
   ]
  },
  {
   "cell_type": "code",
   "execution_count": 19,
   "id": "22912d98-f236-49c6-b091-c38a61b77b2e",
   "metadata": {},
   "outputs": [],
   "source": [
    "function f()\n",
    "    return \"foo\", 1\n",
    "end;"
   ]
  },
  {
   "cell_type": "code",
   "execution_count": 21,
   "id": "a08a64aa-beeb-45c1-883c-66e2d9464137",
   "metadata": {},
   "outputs": [
    {
     "data": {
      "text/plain": [
       "(\"foo\", 1)"
      ]
     },
     "execution_count": 21,
     "metadata": {},
     "output_type": "execute_result"
    }
   ],
   "source": [
    "f()"
   ]
  },
  {
   "cell_type": "code",
   "execution_count": 6,
   "id": "517bb3f1-50a1-4af2-abed-674dc15ffed8",
   "metadata": {},
   "outputs": [
    {
     "name": "stdout",
     "output_type": "stream",
     "text": [
      "word = foo, val = 1\n"
     ]
    }
   ],
   "source": [
    "# Tuples can also be unpacked directly into variables.\n",
    "word, val = (\"foo\", 1);\n",
    "println(\"word = $word, val = $val\")"
   ]
  },
  {
   "cell_type": "code",
   "execution_count": 15,
   "id": "af0e4021-d5b2-46d3-af41-8b5312a667aa",
   "metadata": {},
   "outputs": [
    {
     "name": "stdout",
     "output_type": "stream",
     "text": [
      "Type of x: String\n",
      "Type of y: Tuple{String}\n"
     ]
    }
   ],
   "source": [
    "# Tuples can be created with a hanging `,` - this is useful to create a tuple with one element.\n",
    "x = (\"foo\");\n",
    "y = (\"foo\", );\n",
    "\n",
    "println(\"Type of x: $(typeof(x))\")\n",
    "println(\"Type of y: $(typeof(y))\")"
   ]
  },
  {
   "cell_type": "markdown",
   "id": "2b64253c-9788-4798-a7eb-cc39db7e85fe",
   "metadata": {},
   "source": [
    "## **Referencing Items**"
   ]
  },
  {
   "cell_type": "code",
   "execution_count": 16,
   "id": "730d522f-f799-4772-98e0-dbdb0d2cdb8c",
   "metadata": {},
   "outputs": [],
   "source": [
    "x = [10, 20, 30, 40];"
   ]
  },
  {
   "cell_type": "code",
   "execution_count": 17,
   "id": "eba44e3d-34cd-49b3-aa13-85b56f7dc381",
   "metadata": {},
   "outputs": [
    {
     "data": {
      "text/plain": [
       "40"
      ]
     },
     "execution_count": 17,
     "metadata": {},
     "output_type": "execute_result"
    }
   ],
   "source": [
    "x[end]"
   ]
  },
  {
   "cell_type": "code",
   "execution_count": 18,
   "id": "5da73b3a-a443-4071-8d8d-a54442681833",
   "metadata": {},
   "outputs": [
    {
     "data": {
      "text/plain": [
       "30"
      ]
     },
     "execution_count": 18,
     "metadata": {},
     "output_type": "execute_result"
    }
   ],
   "source": [
    "x[end - 1]"
   ]
  },
  {
   "cell_type": "code",
   "execution_count": 19,
   "id": "5845c92e-7dab-498c-9f67-383a75b7169c",
   "metadata": {},
   "outputs": [
    {
     "data": {
      "text/plain": [
       "3-element Vector{Int64}:\n",
       " 10\n",
       " 20\n",
       " 30"
      ]
     },
     "execution_count": 19,
     "metadata": {},
     "output_type": "execute_result"
    }
   ],
   "source": [
    "# slice notation\n",
    "x[1:3]"
   ]
  },
  {
   "cell_type": "code",
   "execution_count": 20,
   "id": "fd1e67a1-9bc4-43b6-82e1-d60773f98b48",
   "metadata": {},
   "outputs": [
    {
     "data": {
      "text/plain": [
       "3-element Vector{Int64}:\n",
       " 20\n",
       " 30\n",
       " 40"
      ]
     },
     "execution_count": 20,
     "metadata": {},
     "output_type": "execute_result"
    }
   ],
   "source": [
    "x[2:end]"
   ]
  },
  {
   "cell_type": "code",
   "execution_count": 22,
   "id": "32ec4505-5ee1-4560-a7cb-ed648416bcd3",
   "metadata": {},
   "outputs": [
    {
     "data": {
      "text/plain": [
       "\"obar\""
      ]
     },
     "execution_count": 22,
     "metadata": {},
     "output_type": "execute_result"
    }
   ],
   "source": [
    "# The same slice notation works on strings\n",
    "str = \"foobar\";\n",
    "str[3:end]"
   ]
  },
  {
   "cell_type": "markdown",
   "id": "fc9756cb-9cb9-4278-bca4-ac838e4d6c67",
   "metadata": {},
   "source": [
    "## **Dictionaries**"
   ]
  },
  {
   "cell_type": "code",
   "execution_count": 23,
   "id": "86592a8a-34aa-4135-acc6-c4f29dcb604b",
   "metadata": {},
   "outputs": [
    {
     "data": {
      "text/plain": [
       "Dict{String, Any} with 2 entries:\n",
       "  \"name\" => \"Frodo\"\n",
       "  \"age\"  => 33"
      ]
     },
     "execution_count": 23,
     "metadata": {},
     "output_type": "execute_result"
    }
   ],
   "source": [
    "d = Dict(\"name\" => \"Frodo\", \"age\" => 33)"
   ]
  },
  {
   "cell_type": "code",
   "execution_count": 24,
   "id": "0650ad00-42e4-4a20-863f-ecbbf46f4541",
   "metadata": {},
   "outputs": [
    {
     "data": {
      "text/plain": [
       "33"
      ]
     },
     "execution_count": 24,
     "metadata": {},
     "output_type": "execute_result"
    }
   ],
   "source": [
    "d[\"age\"]"
   ]
  },
  {
   "cell_type": "code",
   "execution_count": 25,
   "id": "af864a48-2875-4206-a82d-6e05720c7631",
   "metadata": {},
   "outputs": [
    {
     "data": {
      "text/plain": [
       "KeySet for a Dict{String, Any} with 2 entries. Keys:\n",
       "  \"name\"\n",
       "  \"age\""
      ]
     },
     "execution_count": 25,
     "metadata": {},
     "output_type": "execute_result"
    }
   ],
   "source": [
    "keys(d)"
   ]
  },
  {
   "cell_type": "code",
   "execution_count": 26,
   "id": "b76c7fae-763c-4a5b-8e2d-cb4fd49bf4d5",
   "metadata": {},
   "outputs": [
    {
     "data": {
      "text/plain": [
       "ValueIterator for a Dict{String, Any} with 2 entries. Values:\n",
       "  \"Frodo\"\n",
       "  33"
      ]
     },
     "execution_count": 26,
     "metadata": {},
     "output_type": "execute_result"
    }
   ],
   "source": [
    "values(d)"
   ]
  },
  {
   "cell_type": "code",
   "execution_count": null,
   "id": "733415f8-c376-4945-b998-6c7921e77992",
   "metadata": {},
   "outputs": [],
   "source": []
  }
 ],
 "metadata": {
  "kernelspec": {
   "display_name": "Julia 1.10.4",
   "language": "julia",
   "name": "julia-1.10"
  },
  "language_info": {
   "file_extension": ".jl",
   "mimetype": "application/julia",
   "name": "julia",
   "version": "1.10.4"
  }
 },
 "nbformat": 4,
 "nbformat_minor": 5
}
