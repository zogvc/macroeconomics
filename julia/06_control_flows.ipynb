{
 "cells": [
  {
   "cell_type": "markdown",
   "id": "4286d010-021b-40d4-b819-0b841d9a84c5",
   "metadata": {},
   "source": [
    "## **Iterations**"
   ]
  },
  {
   "cell_type": "markdown",
   "id": "43e57411-7d8e-4112-9d6b-73dddbca5dec",
   "metadata": {},
   "source": [
    "### **Iterables**"
   ]
  },
  {
   "cell_type": "code",
   "execution_count": 1,
   "id": "863f1352-6335-42c8-a734-2e44df72aca9",
   "metadata": {},
   "outputs": [
    {
     "name": "stdout",
     "output_type": "stream",
     "text": [
      "Charlie doesn't surf.\n",
      "Charlie doesn't ski.\n"
     ]
    }
   ],
   "source": [
    "# An iterable is something you can put on the right hand side of `for` loop over, e.g., arrays.\n",
    "actions = [\"surf\", \"ski\"]\n",
    "\n",
    "for action in actions\n",
    "    println(\"Charlie doesn't $action.\")\n",
    "end"
   ]
  },
  {
   "cell_type": "code",
   "execution_count": 2,
   "id": "d5a512a0-555f-4e07-a0ef-66a237ed3880",
   "metadata": {},
   "outputs": [
    {
     "name": "stdout",
     "output_type": "stream",
     "text": [
      "123"
     ]
    }
   ],
   "source": [
    "for i in 1:3\n",
    "    print(i)\n",
    "end"
   ]
  },
  {
   "cell_type": "code",
   "execution_count": 4,
   "id": "b181d976-e3b9-4ba3-ae73-c4b2170d9b46",
   "metadata": {},
   "outputs": [
    {
     "data": {
      "text/plain": [
       "KeySet for a Dict{String, Any} with 2 entries. Keys:\n",
       "  \"name\"\n",
       "  \"age\""
      ]
     },
     "execution_count": 4,
     "metadata": {},
     "output_type": "execute_result"
    }
   ],
   "source": [
    "d = Dict(\"name\" => \"Frodo\", \"age\" => 33);\n",
    "\n",
    "keys(d)"
   ]
  },
  {
   "cell_type": "code",
   "execution_count": 5,
   "id": "1af09e4c-32fd-4e75-8209-1ef864a2fe5c",
   "metadata": {},
   "outputs": [
    {
     "data": {
      "text/plain": [
       "2-element Vector{String}:\n",
       " \"name\"\n",
       " \"age\""
      ]
     },
     "execution_count": 5,
     "metadata": {},
     "output_type": "execute_result"
    }
   ],
   "source": [
    "collect(keys(d))"
   ]
  },
  {
   "cell_type": "markdown",
   "id": "30d21ebd-92e0-43ee-8f34-5bce84c04247",
   "metadata": {},
   "source": [
    "### **Looping without Indicies**"
   ]
  },
  {
   "cell_type": "code",
   "execution_count": 9,
   "id": "9d7328f9-9414-40b5-b505-288e697c5f1b",
   "metadata": {},
   "outputs": [
    {
     "name": "stdout",
     "output_type": "stream",
     "text": [
      "9\n",
      "16\n",
      "25\n"
     ]
    }
   ],
   "source": [
    "xvals = 3:5;\n",
    "\n",
    "for x in xvals\n",
    "    println(x * x)\n",
    "end"
   ]
  },
  {
   "cell_type": "code",
   "execution_count": 10,
   "id": "873d1982-429b-4cb4-9991-92cef85d5e40",
   "metadata": {},
   "outputs": [
    {
     "name": "stdout",
     "output_type": "stream",
     "text": [
      "9\n",
      "16\n",
      "25\n"
     ]
    }
   ],
   "source": [
    "for i in eachindex(xvals)\n",
    "    println(xvals[i] * xvals[i])\n",
    "end"
   ]
  },
  {
   "cell_type": "code",
   "execution_count": 12,
   "id": "9f9d408c-c0b8-492f-ab7e-9203e70f3baf",
   "metadata": {},
   "outputs": [
    {
     "name": "stdout",
     "output_type": "stream",
     "text": [
      "The capital of Japan is Tokyo.\n",
      "The capital of Korea is Seoul.\n",
      "The capital of China is Beijing.\n"
     ]
    }
   ],
   "source": [
    "# Julia provides some functional-style helper functions (similar to Python and R) to facilitate looping without indices.\n",
    "# e.g., zip()\n",
    "\n",
    "countries = (\"Japan\", \"Korea\", \"China\");\n",
    "cities = (\"Tokyo\", \"Seoul\", \"Beijing\");\n",
    "\n",
    "for (country, city) in zip(countries, cities)\n",
    "    println(\"The capital of $country is $city.\")\n",
    "end"
   ]
  },
  {
   "cell_type": "code",
   "execution_count": 14,
   "id": "fcb0ec14-3e79-4c91-ab70-6fa4013a886c",
   "metadata": {},
   "outputs": [
    {
     "name": "stdout",
     "output_type": "stream",
     "text": [
      "The capital of Japan is Tokyo.\n",
      "The capital of Korea is Seoul.\n",
      "The capital of China is Beijing.\n"
     ]
    }
   ],
   "source": [
    "# If we happen to need the index as well as the value, one optin is to use `enumerate()`.\n",
    "\n",
    "for (i, country) in enumerate(countries)\n",
    "    city = cities[i]\n",
    "    println(\"The capital of $country is $city.\")\n",
    "end"
   ]
  },
  {
   "cell_type": "markdown",
   "id": "c9747b9e-b32a-4e36-b82b-a49b308cd7dc",
   "metadata": {},
   "source": [
    "### **Comprehensions**"
   ]
  },
  {
   "cell_type": "code",
   "execution_count": 15,
   "id": "90d4e6ec-ae13-4eb6-b33e-58c2ab1de23a",
   "metadata": {},
   "outputs": [
    {
     "data": {
      "text/plain": [
       "4-element Vector{Int64}:\n",
       " 2\n",
       " 4\n",
       " 6\n",
       " 8"
      ]
     },
     "execution_count": 15,
     "metadata": {},
     "output_type": "execute_result"
    }
   ],
   "source": [
    "doubles = [2i for i in 1:4]"
   ]
  },
  {
   "cell_type": "code",
   "execution_count": 16,
   "id": "ff439f83-2cfb-49da-b047-835b125efb77",
   "metadata": {},
   "outputs": [
    {
     "data": {
      "text/plain": [
       "3-element Vector{String}:\n",
       " \"dogs\"\n",
       " \"cats\"\n",
       " \"birds\""
      ]
     },
     "execution_count": 16,
     "metadata": {},
     "output_type": "execute_result"
    }
   ],
   "source": [
    "animals = [\"dog\", \"cat\", \"bird\"];\n",
    "plurals = [animal * \"s\" for animal in animals]"
   ]
  },
  {
   "cell_type": "code",
   "execution_count": 17,
   "id": "53cac053-a1ad-4c06-826e-fc95a077bcf2",
   "metadata": {},
   "outputs": [
    {
     "data": {
      "text/plain": [
       "3×3 Matrix{Int64}:\n",
       " 5  6  7\n",
       " 6  7  8\n",
       " 7  8  9"
      ]
     },
     "execution_count": 17,
     "metadata": {},
     "output_type": "execute_result"
    }
   ],
   "source": [
    "[i + j for i in 1:3, j in 4:6]"
   ]
  },
  {
   "cell_type": "code",
   "execution_count": 18,
   "id": "92c38098-c00f-4e59-a8e3-3dfe9d66274a",
   "metadata": {},
   "outputs": [
    {
     "data": {
      "text/plain": [
       "3×3×3 Array{Int64, 3}:\n",
       "[:, :, 1] =\n",
       " 12  13  14\n",
       " 13  14  15\n",
       " 14  15  16\n",
       "\n",
       "[:, :, 2] =\n",
       " 13  14  15\n",
       " 14  15  16\n",
       " 15  16  17\n",
       "\n",
       "[:, :, 3] =\n",
       " 14  15  16\n",
       " 15  16  17\n",
       " 16  17  18"
      ]
     },
     "execution_count": 18,
     "metadata": {},
     "output_type": "execute_result"
    }
   ],
   "source": [
    "[i + j + k for i in 1:3, j in 4:6, k in 7:9]"
   ]
  },
  {
   "cell_type": "code",
   "execution_count": 19,
   "id": "d71ccb1e-756e-497e-a5b8-5b3c3f2105bd",
   "metadata": {},
   "outputs": [
    {
     "data": {
      "text/plain": [
       "2×3 Matrix{Tuple{Int64, String}}:\n",
       " (1, \"dog\")  (1, \"cat\")  (1, \"bird\")\n",
       " (2, \"dog\")  (2, \"cat\")  (2, \"bird\")"
      ]
     },
     "execution_count": 19,
     "metadata": {},
     "output_type": "execute_result"
    }
   ],
   "source": [
    "[(i, j) for i in 1:2, j in animals]"
   ]
  },
  {
   "cell_type": "code",
   "execution_count": 20,
   "id": "63e7ea4e-8ad3-4629-89e9-80f7ee11c492",
   "metadata": {},
   "outputs": [
    {
     "data": {
      "text/plain": [
       "2×3 Matrix{@NamedTuple{num::Int64, animal::String}}:\n",
       " (num = 1, animal = \"dog\")  …  (num = 1, animal = \"bird\")\n",
       " (num = 2, animal = \"dog\")     (num = 2, animal = \"bird\")"
      ]
     },
     "execution_count": 20,
     "metadata": {},
     "output_type": "execute_result"
    }
   ],
   "source": [
    "[(num = i, animal = j) for i in 1:2, j in animals] # named tuple"
   ]
  },
  {
   "cell_type": "markdown",
   "id": "9c3c89a9-6090-4a8e-ae56-e41f0e12b801",
   "metadata": {},
   "source": [
    "### **Generators**"
   ]
  },
  {
   "cell_type": "code",
   "execution_count": 21,
   "id": "8006c5ca-e4a1-4d54-959c-f91cafe6ef8f",
   "metadata": {},
   "outputs": [
    {
     "data": {
      "text/plain": [
       "333383335000"
      ]
     },
     "execution_count": 21,
     "metadata": {},
     "output_type": "execute_result"
    }
   ],
   "source": [
    "xs = 1:10000;\n",
    "f(x) = x^2;\n",
    "fx = f.(xs);\n",
    "sum(fx)"
   ]
  },
  {
   "cell_type": "code",
   "execution_count": 23,
   "id": "c77377bf-6589-437f-8b72-43aacd9508f6",
   "metadata": {},
   "outputs": [
    {
     "name": "stdout",
     "output_type": "stream",
     "text": [
      "sum(fx2) = 333383335000\n",
      "sum([f(x) for x = xs]) = 333383335000\n"
     ]
    }
   ],
   "source": [
    "fx2 = [f(x) for x in xs];\n",
    "@show sum(fx2)\n",
    "@show sum([f(x) for x in xs]);"
   ]
  },
  {
   "cell_type": "markdown",
   "id": "ce3a19ca-7af8-44b8-8925-4cca2d62533c",
   "metadata": {},
   "source": [
    "A generator can emulate this behavior, leading to clear (and sometimes more efficient) code when used with any function that accepts iterators."
   ]
  },
  {
   "cell_type": "code",
   "execution_count": 24,
   "id": "c06ab96c-4726-4432-a122-398ce41aa0e3",
   "metadata": {},
   "outputs": [
    {
     "data": {
      "text/plain": [
       "333383335000"
      ]
     },
     "execution_count": 24,
     "metadata": {},
     "output_type": "execute_result"
    }
   ],
   "source": [
    "sum(f(x) for x in xs)"
   ]
  },
  {
   "cell_type": "code",
   "execution_count": 27,
   "id": "270945fd-d1d0-4693-bb13-723a0da7c2f8",
   "metadata": {},
   "outputs": [
    {
     "name": "stdout",
     "output_type": "stream",
     "text": [
      "  8.600 μs (2 allocations: 78.17 KiB)\n",
      "  8.400 μs (2 allocations: 78.17 KiB)\n",
      "  4.400 ns (0 allocations: 0 bytes)\n"
     ]
    }
   ],
   "source": [
    "using BenchmarkTools\n",
    "\n",
    "@btime sum([f(x) for x in $xs])\n",
    "@btime sum(f.($xs))\n",
    "@btime sum(f(x) for x in $xs);"
   ]
  },
  {
   "cell_type": "code",
   "execution_count": null,
   "id": "729af9f8-97a4-4344-83a2-c13340b14918",
   "metadata": {},
   "outputs": [],
   "source": []
  }
 ],
 "metadata": {
  "kernelspec": {
   "display_name": "Julia 1.10.4",
   "language": "julia",
   "name": "julia-1.10"
  },
  "language_info": {
   "file_extension": ".jl",
   "mimetype": "application/julia",
   "name": "julia",
   "version": "1.10.4"
  }
 },
 "nbformat": 4,
 "nbformat_minor": 5
}
