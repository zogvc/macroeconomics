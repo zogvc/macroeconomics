{
 "cells": [
  {
   "cell_type": "markdown",
   "id": "903b43e9-ad01-43a9-8767-ecba4cf69e0f",
   "metadata": {},
   "source": [
    "## **Comparisons and Logical Operators**"
   ]
  },
  {
   "cell_type": "markdown",
   "id": "f7bc2ddf-0bf1-4fbf-9c2e-81952d9e193c",
   "metadata": {},
   "source": [
    "### **Comparisons**"
   ]
  },
  {
   "cell_type": "code",
   "execution_count": 2,
   "id": "4705fed5-31a4-4cb2-bf81-70b2da8ed38f",
   "metadata": {},
   "outputs": [
    {
     "data": {
      "text/plain": [
       "false"
      ]
     },
     "execution_count": 2,
     "metadata": {},
     "output_type": "execute_result"
    }
   ],
   "source": [
    "# When testing for equality we use `==`.\n",
    "x = 1;\n",
    "x == 2"
   ]
  },
  {
   "cell_type": "code",
   "execution_count": 3,
   "id": "d56472f0-eb21-478b-9ebb-4136894440fc",
   "metadata": {},
   "outputs": [
    {
     "data": {
      "text/plain": [
       "true"
      ]
     },
     "execution_count": 3,
     "metadata": {},
     "output_type": "execute_result"
    }
   ],
   "source": [
    "# For not equal use `!=` or `≠` (\\ne<TAB>)\n",
    "x != 3"
   ]
  },
  {
   "cell_type": "code",
   "execution_count": 4,
   "id": "2e276574-0352-4ca2-b26e-9548f8e4f741",
   "metadata": {},
   "outputs": [
    {
     "data": {
      "text/plain": [
       "true"
      ]
     },
     "execution_count": 4,
     "metadata": {},
     "output_type": "execute_result"
    }
   ],
   "source": [
    "x ≠ 3"
   ]
  },
  {
   "cell_type": "code",
   "execution_count": 6,
   "id": "72012e54-0a4f-433b-8edb-774524cdb884",
   "metadata": {},
   "outputs": [
    {
     "data": {
      "text/plain": [
       "true"
      ]
     },
     "execution_count": 6,
     "metadata": {},
     "output_type": "execute_result"
    }
   ],
   "source": [
    "# Julia can also text approximate equality with `≈` (\\approx<TAB>)\n",
    "# Be careful when using this, however, as there are subtleties involving the scales of the quantities compared.\n",
    "1 + 1e-8 ≈ 1"
   ]
  },
  {
   "cell_type": "markdown",
   "id": "333771d0-2430-4708-9ba5-0013100ee78f",
   "metadata": {},
   "source": [
    "### **Combining Expressions**"
   ]
  },
  {
   "cell_type": "code",
   "execution_count": 7,
   "id": "1d38da95-6f79-4bac-a91d-f5cd57165f40",
   "metadata": {},
   "outputs": [
    {
     "data": {
      "text/plain": [
       "false"
      ]
     },
     "execution_count": 7,
     "metadata": {},
     "output_type": "execute_result"
    }
   ],
   "source": [
    "# conjunction\n",
    "true && false"
   ]
  },
  {
   "cell_type": "code",
   "execution_count": 8,
   "id": "5c9729e8-5876-4e42-9ec8-a4c7972fd45d",
   "metadata": {},
   "outputs": [
    {
     "data": {
      "text/plain": [
       "true"
      ]
     },
     "execution_count": 8,
     "metadata": {},
     "output_type": "execute_result"
    }
   ],
   "source": [
    "# disjunction\n",
    "true || false"
   ]
  },
  {
   "cell_type": "code",
   "execution_count": null,
   "id": "6c55019a-22f3-4a57-8b6c-58d90a5e53ec",
   "metadata": {},
   "outputs": [],
   "source": []
  }
 ],
 "metadata": {
  "kernelspec": {
   "display_name": "Julia 1.10.4",
   "language": "julia",
   "name": "julia-1.10"
  },
  "language_info": {
   "file_extension": ".jl",
   "mimetype": "application/julia",
   "name": "julia",
   "version": "1.10.4"
  }
 },
 "nbformat": 4,
 "nbformat_minor": 5
}
