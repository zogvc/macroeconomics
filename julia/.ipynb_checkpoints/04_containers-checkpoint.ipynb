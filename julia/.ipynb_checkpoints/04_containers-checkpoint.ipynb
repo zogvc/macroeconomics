{
 "cells": [
  {
   "cell_type": "markdown",
   "id": "80a3ff47-742f-4f17-900c-c8007be4ba72",
   "metadata": {},
   "source": [
    "## **Arrays**"
   ]
  },
  {
   "cell_type": "markdown",
   "id": "4f2e62bc-a708-4037-907e-2f31b10582d4",
   "metadata": {},
   "source": [
    "## **Tuples**"
   ]
  },
  {
   "cell_type": "code",
   "execution_count": 11,
   "id": "e048f5fa-c67c-4067-b771-d484c9e6835a",
   "metadata": {},
   "outputs": [],
   "source": [
    "x = (\"foo\", \"bar\");\n",
    "y = (\"foo\", 2);"
   ]
  },
  {
   "cell_type": "code",
   "execution_count": 13,
   "id": "0130255c-7840-4136-b1a3-52f9840ea476",
   "metadata": {},
   "outputs": [
    {
     "data": {
      "text/plain": [
       "(Tuple{String, String}, Tuple{String, Int64})"
      ]
     },
     "execution_count": 13,
     "metadata": {},
     "output_type": "execute_result"
    }
   ],
   "source": [
    "typeof(x), typeof(y)"
   ]
  },
  {
   "cell_type": "code",
   "execution_count": 5,
   "id": "94173df6-0675-4c89-847c-b827dd290957",
   "metadata": {},
   "outputs": [
    {
     "data": {
      "text/plain": [
       "(\"foo\", 1)"
      ]
     },
     "execution_count": 5,
     "metadata": {},
     "output_type": "execute_result"
    }
   ],
   "source": [
    "x = \"foo\", 1 # Tuples can be constructed with or without parentheses."
   ]
  },
  {
   "cell_type": "code",
   "execution_count": 19,
   "id": "22912d98-f236-49c6-b091-c38a61b77b2e",
   "metadata": {},
   "outputs": [],
   "source": [
    "function f()\n",
    "    return \"foo\", 1\n",
    "end;"
   ]
  },
  {
   "cell_type": "code",
   "execution_count": 21,
   "id": "a08a64aa-beeb-45c1-883c-66e2d9464137",
   "metadata": {},
   "outputs": [
    {
     "data": {
      "text/plain": [
       "(\"foo\", 1)"
      ]
     },
     "execution_count": 21,
     "metadata": {},
     "output_type": "execute_result"
    }
   ],
   "source": [
    "f()"
   ]
  },
  {
   "cell_type": "code",
   "execution_count": null,
   "id": "517bb3f1-50a1-4af2-abed-674dc15ffed8",
   "metadata": {},
   "outputs": [],
   "source": []
  }
 ],
 "metadata": {
  "kernelspec": {
   "display_name": "Julia 1.10.4",
   "language": "julia",
   "name": "julia-1.10"
  },
  "language_info": {
   "file_extension": ".jl",
   "mimetype": "application/julia",
   "name": "julia",
   "version": "1.10.4"
  }
 },
 "nbformat": 4,
 "nbformat_minor": 5
}
