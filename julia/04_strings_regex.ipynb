{
 "cells": [
  {
   "cell_type": "markdown",
   "id": "c68e7a34-d5f2-4004-9448-d9b6794d5dae",
   "metadata": {},
   "source": [
    "## **Characters and Strings**"
   ]
  },
  {
   "cell_type": "code",
   "execution_count": 1,
   "id": "d06d0b90-6a78-4e48-abbf-1c38f061f997",
   "metadata": {},
   "outputs": [
    {
     "data": {
      "text/plain": [
       "\"foobar\""
      ]
     },
     "execution_count": 1,
     "metadata": {},
     "output_type": "execute_result"
    }
   ],
   "source": [
    "x = \"foobar\""
   ]
  },
  {
   "cell_type": "code",
   "execution_count": 3,
   "id": "fe0b392b-d130-4535-9c8c-7cb18db83bba",
   "metadata": {},
   "outputs": [
    {
     "data": {
      "text/plain": [
       "String"
      ]
     },
     "execution_count": 3,
     "metadata": {},
     "output_type": "execute_result"
    }
   ],
   "source": [
    "typeof(x)"
   ]
  },
  {
   "cell_type": "code",
   "execution_count": 11,
   "id": "50a5ca3e-591a-4980-a564-127ff1664e5b",
   "metadata": {},
   "outputs": [],
   "source": [
    "x = 10;\n",
    "y = 20;"
   ]
  },
  {
   "cell_type": "code",
   "execution_count": 13,
   "id": "ee7f4b32-e0ea-469d-a202-9dbabcebf8db",
   "metadata": {},
   "outputs": [
    {
     "data": {
      "text/plain": [
       "\"x = 10\""
      ]
     },
     "execution_count": 13,
     "metadata": {},
     "output_type": "execute_result"
    }
   ],
   "source": [
    "\"x = $x\""
   ]
  },
  {
   "cell_type": "code",
   "execution_count": 17,
   "id": "f6459b75-fe61-48c6-8a0a-b6a01a3d0590",
   "metadata": {},
   "outputs": [
    {
     "data": {
      "text/plain": [
       "\"x + y = 30\""
      ]
     },
     "execution_count": 17,
     "metadata": {},
     "output_type": "execute_result"
    }
   ],
   "source": [
    "\"x + y = $(x + y)\""
   ]
  },
  {
   "cell_type": "code",
   "execution_count": 19,
   "id": "0e3bebe0-cbab-42c2-9a33-bf7c257599e7",
   "metadata": {},
   "outputs": [
    {
     "data": {
      "text/plain": [
       "\"foobar\""
      ]
     },
     "execution_count": 19,
     "metadata": {},
     "output_type": "execute_result"
    }
   ],
   "source": [
    "\"foo\" * \"bar\" # string concatenation"
   ]
  },
  {
   "cell_type": "code",
   "execution_count": 21,
   "id": "0e14f3be-b88c-47d6-bb07-e704edac22bc",
   "metadata": {},
   "outputs": [
    {
     "data": {
      "text/plain": [
       "\"Charlie don't surf\""
      ]
     },
     "execution_count": 21,
     "metadata": {},
     "output_type": "execute_result"
    }
   ],
   "source": [
    "s = \"Charlie don't surf\""
   ]
  },
  {
   "cell_type": "code",
   "execution_count": 23,
   "id": "29e893b9-23f6-4b26-8435-2d7a60c5b841",
   "metadata": {},
   "outputs": [
    {
     "data": {
      "text/plain": [
       "3-element Vector{SubString{String}}:\n",
       " \"Charlie\"\n",
       " \"don't\"\n",
       " \"surf\""
      ]
     },
     "execution_count": 23,
     "metadata": {},
     "output_type": "execute_result"
    }
   ],
   "source": [
    "split(s)"
   ]
  },
  {
   "cell_type": "code",
   "execution_count": 27,
   "id": "82fbc5f0-e3e1-48cb-a1ce-040067660969",
   "metadata": {},
   "outputs": [
    {
     "data": {
      "text/plain": [
       "3-element Vector{SubString{String}}:\n",
       " \"fee\"\n",
       " \"fi\"\n",
       " \"fo\""
      ]
     },
     "execution_count": 27,
     "metadata": {},
     "output_type": "execute_result"
    }
   ],
   "source": [
    "split(\"fee,fi,fo\", \",\")"
   ]
  },
  {
   "cell_type": "code",
   "execution_count": 25,
   "id": "715af38a-95c7-4519-bce9-0398e65e645b",
   "metadata": {},
   "outputs": [
    {
     "data": {
      "text/plain": [
       "\"Charlie don't ski\""
      ]
     },
     "execution_count": 25,
     "metadata": {},
     "output_type": "execute_result"
    }
   ],
   "source": [
    "replace(s, \"surf\" => \"ski\")"
   ]
  },
  {
   "cell_type": "code",
   "execution_count": 29,
   "id": "91c98ceb-1ef5-46a6-9504-041f95f83673",
   "metadata": {},
   "outputs": [
    {
     "data": {
      "text/plain": [
       "\"foobar\""
      ]
     },
     "execution_count": 29,
     "metadata": {},
     "output_type": "execute_result"
    }
   ],
   "source": [
    "strip(\" foobar \") # Remove whitespace"
   ]
  },
  {
   "cell_type": "markdown",
   "id": "0ca2e485-0f73-404e-923f-264c53926e53",
   "metadata": {},
   "source": [
    "## **Regular Expressions**"
   ]
  },
  {
   "cell_type": "code",
   "execution_count": 39,
   "id": "b055a49e-6810-41ab-b5f3-77238e13feaf",
   "metadata": {},
   "outputs": [
    {
     "data": {
      "text/plain": [
       "RegexMatch(\"10\", 1=\"10\")"
      ]
     },
     "execution_count": 39,
     "metadata": {},
     "output_type": "execute_result"
    }
   ],
   "source": [
    "match(r\"(\\d+)\", \"Top 10\") # Find digits in string"
   ]
  },
  {
   "cell_type": "code",
   "execution_count": null,
   "id": "180ff6fc-512f-4a2b-9e01-65ce4cfc464b",
   "metadata": {},
   "outputs": [],
   "source": []
  }
 ],
 "metadata": {
  "kernelspec": {
   "display_name": "Julia 1.10.4",
   "language": "julia",
   "name": "julia-1.10"
  },
  "language_info": {
   "file_extension": ".jl",
   "mimetype": "application/julia",
   "name": "julia",
   "version": "1.10.4"
  }
 },
 "nbformat": 4,
 "nbformat_minor": 5
}
